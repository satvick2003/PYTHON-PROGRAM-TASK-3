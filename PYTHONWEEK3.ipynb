{
  "nbformat": 4,
  "nbformat_minor": 0,
  "metadata": {
    "colab": {
      "provenance": [],
      "authorship_tag": "ABX9TyOmIheaJ23CK1SS039Ecz/U",
      "include_colab_link": true
    },
    "kernelspec": {
      "name": "python3",
      "display_name": "Python 3"
    },
    "language_info": {
      "name": "python"
    }
  },
  "cells": [
    {
      "cell_type": "markdown",
      "metadata": {
        "id": "view-in-github",
        "colab_type": "text"
      },
      "source": [
        "<a href=\"https://colab.research.google.com/github/satvick2003/PYTHON-PROGRAM-TASK-3/blob/main/PYTHONWEEK3.ipynb\" target=\"_parent\"><img src=\"https://colab.research.google.com/assets/colab-badge.svg\" alt=\"Open In Colab\"/></a>"
      ]
    },
    {
      "cell_type": "code",
      "execution_count": 1,
      "metadata": {
        "colab": {
          "base_uri": "https://localhost:8080/"
        },
        "id": "GXkubYdnwIY4",
        "outputId": "25481c89-b591-44ce-b5e2-f07555f341e8"
      },
      "outputs": [
        {
          "output_type": "stream",
          "name": "stdout",
          "text": [
            "Requirement already satisfied: requests in /usr/local/lib/python3.10/dist-packages (2.32.3)\n",
            "Requirement already satisfied: tqdm in /usr/local/lib/python3.10/dist-packages (4.66.5)\n",
            "Requirement already satisfied: beautifulsoup4 in /usr/local/lib/python3.10/dist-packages (4.12.3)\n",
            "Requirement already satisfied: charset-normalizer<4,>=2 in /usr/local/lib/python3.10/dist-packages (from requests) (3.3.2)\n",
            "Requirement already satisfied: idna<4,>=2.5 in /usr/local/lib/python3.10/dist-packages (from requests) (3.8)\n",
            "Requirement already satisfied: urllib3<3,>=1.21.1 in /usr/local/lib/python3.10/dist-packages (from requests) (2.0.7)\n",
            "Requirement already satisfied: certifi>=2017.4.17 in /usr/local/lib/python3.10/dist-packages (from requests) (2024.7.4)\n",
            "Requirement already satisfied: soupsieve>1.2 in /usr/local/lib/python3.10/dist-packages (from beautifulsoup4) (2.6)\n"
          ]
        }
      ],
      "source": [
        "pip install requests tqdm beautifulsoup4\n"
      ]
    },
    {
      "cell_type": "code",
      "source": [
        "import os\n",
        "import requests\n",
        "from tqdm import tqdm\n",
        "from bs4 import BeautifulSoup\n",
        "from urllib.parse import urlparse, urljoin\n",
        "\n",
        "def download_image(url, save_dir):\n",
        "    try:\n",
        "        # Check if the URL is valid\n",
        "        response = requests.get(url, stream=True)\n",
        "        response.raise_for_status()  # Check for HTTP errors\n",
        "\n",
        "        # Get the image file name\n",
        "        file_name = os.path.basename(urlparse(url).path)\n",
        "        if not file_name:\n",
        "            file_name = 'image.jpg'  # Default file name\n",
        "\n",
        "        # Create the save directory if it doesn't exist\n",
        "        if not os.path.exists(save_dir):\n",
        "            os.makedirs(save_dir)\n",
        "\n",
        "        # Download the image\n",
        "        file_path = os.path.join(save_dir, file_name)\n",
        "        with open(file_path, 'wb') as file:\n",
        "            total_size = int(response.headers.get('content-length', 0))\n",
        "            with tqdm(total=total_size, unit='B', unit_scale=True, unit_divisor=1024) as bar:\n",
        "                for chunk in response.iter_content(chunk_size=1024):\n",
        "                    if chunk:\n",
        "                        file.write(chunk)\n",
        "                        bar.update(len(chunk))\n",
        "\n",
        "        print(f\"Image saved to {file_path}\")\n",
        "\n",
        "    except requests.RequestException as e:\n",
        "        print(f\"Error downloading {url}: {e}\")\n",
        "\n",
        "def extract_image_urls(webpage_url):\n",
        "    try:\n",
        "        response = requests.get(webpage_url)\n",
        "        response.raise_for_status()\n",
        "        soup = BeautifulSoup(response.text, 'html.parser')\n",
        "        img_tags = soup.find_all('img')\n",
        "        urls = [urljoin(webpage_url, img['src']) for img in img_tags if 'src' in img.attrs]\n",
        "        return urls\n",
        "    except requests.RequestException as e:\n",
        "        print(f\"Error fetching {webpage_url}: {e}\")\n",
        "        return []\n",
        "\n",
        "def main():\n",
        "    print(\"Image Downloader\")\n",
        "\n",
        "    # User input for URLs\n",
        "    urls = input(\"Enter image URLs (comma-separated) or a webpage URL: \").split(',')\n",
        "\n",
        "    # User input for save directory\n",
        "    save_dir = input(\"Enter directory to save images: \").strip()\n",
        "\n",
        "    # Process each URL\n",
        "    for url in urls:\n",
        "        url = url.strip()\n",
        "        if url:\n",
        "            # Check if URL is a webpage and extract images\n",
        "            if urlparse(url).scheme in ['http', 'https'] and 'html' in url:\n",
        "                image_urls = extract_image_urls(url)\n",
        "                if image_urls:\n",
        "                    for img_url in image_urls:\n",
        "                        download_image(img_url, save_dir)\n",
        "                else:\n",
        "                    print(\"No images found on the provided webpage.\")\n",
        "            else:\n",
        "                download_image(url, save_dir)\n",
        "\n",
        "if __name__ == \"__main__\":\n",
        "    main()\n"
      ],
      "metadata": {
        "colab": {
          "base_uri": "https://localhost:8080/"
        },
        "id": "fE17wlTrwoYQ",
        "outputId": "498d109b-ecf2-45ad-905a-ef0ffb9da328"
      },
      "execution_count": null,
      "outputs": [
        {
          "output_type": "stream",
          "name": "stdout",
          "text": [
            "Image Downloader\n"
          ]
        }
      ]
    }
  ]
}